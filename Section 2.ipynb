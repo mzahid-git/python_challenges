{
 "cells": [
  {
   "cell_type": "code",
   "execution_count": 1,
   "id": "08fce1a8-e1c2-4186-84ba-06b6993ad408",
   "metadata": {},
   "outputs": [
    {
     "name": "stdout",
     "output_type": "stream",
     "text": [
      "0\n",
      "1\n",
      "2\n",
      "3\n",
      "4\n",
      "5\n",
      "6\n",
      "7\n",
      "8\n",
      "9\n",
      "10\n"
     ]
    }
   ],
   "source": [
    "counter=0\n",
    "while counter < 11:\n",
    "    print(counter)\n",
    "    counter +=1"
   ]
  },
  {
   "cell_type": "code",
   "execution_count": 11,
   "id": "7df2883b-617e-4478-9e83-0400d42cd6d3",
   "metadata": {},
   "outputs": [
    {
     "name": "stdout",
     "output_type": "stream",
     "text": [
      "banana\n",
      "apple\n",
      "mango\n",
      "pineapple\n"
     ]
    }
   ],
   "source": [
    "fruites = ['banana', 'apple', 'mango', 'pineapple', 'grape', 'orange', 'watermellon']\n",
    "i = 0\n",
    "while fruites[i] != 'grape':\n",
    "    print(fruites[i])\n",
    "    i+=1"
   ]
  },
  {
   "cell_type": "code",
   "execution_count": 17,
   "id": "5ab80765-4b30-436b-8f6f-6373e5d86d45",
   "metadata": {},
   "outputs": [
    {
     "data": {
      "text/plain": [
       "[0, 2, 4]"
      ]
     },
     "execution_count": 17,
     "metadata": {},
     "output_type": "execute_result"
    }
   ],
   "source": [
    "list(range(0,5,2))"
   ]
  },
  {
   "cell_type": "markdown",
   "id": "c994ad63-6cc9-438e-b120-1f5484127c4b",
   "metadata": {},
   "source": [
    "---"
   ]
  },
  {
   "cell_type": "code",
   "execution_count": 23,
   "id": "91afe7a4-f258-482d-b0e2-b702e6c8f8cc",
   "metadata": {},
   "outputs": [
    {
     "name": "stdout",
     "output_type": "stream",
     "text": [
      "apple\n",
      "mango\n",
      "pineapple\n",
      "orange\n",
      "watermellon\n"
     ]
    }
   ],
   "source": [
    "filter_on = ['banana', 'grape']\n",
    "for i in fruites:\n",
    "    if i not in filter_on:\n",
    "        print(i)"
   ]
  },
  {
   "cell_type": "markdown",
   "id": "5b7ddaba-a683-499f-bd4f-5003a6b40d08",
   "metadata": {},
   "source": [
    "---"
   ]
  },
  {
   "cell_type": "markdown",
   "id": "852763f4-747c-4ba5-a675-f0cdaad8093c",
   "metadata": {},
   "source": [
    "Testing the Law of Large Numbers"
   ]
  },
  {
   "cell_type": "code",
   "execution_count": 24,
   "id": "7a8b0367-5ce8-4a51-8294-6439ce1b92cb",
   "metadata": {},
   "outputs": [],
   "source": [
    "import numpy as np\n",
    "from numpy import random"
   ]
  },
  {
   "cell_type": "code",
   "execution_count": 44,
   "id": "d63474e5-e5af-427a-b44c-c626038ed39b",
   "metadata": {},
   "outputs": [
    {
     "name": "stdout",
     "output_type": "stream",
     "text": [
      "Expected value:  0.6825271\n"
     ]
    }
   ],
   "source": [
    "n = 10000000\n",
    "e = 0\n",
    "for i in range(n):\n",
    "    x = random.randn()\n",
    "    if x > -1 and x < 1:\n",
    "        e+=1\n",
    "print(\"Expected value: \",e/n)\n",
    "\n",
    "# Conclusion: Increasing n, we're getting closer and closer to the expected value for -1 and +1 which is 68.2\n",
    "    \n",
    "        \n",
    "        \n",
    "        "
   ]
  },
  {
   "cell_type": "code",
   "execution_count": 1,
   "id": "f2bba42d-11c5-4e98-84ff-c07e52e001cf",
   "metadata": {},
   "outputs": [],
   "source": [
    "# ---"
   ]
  },
  {
   "cell_type": "code",
   "execution_count": 4,
   "id": "a3c80995-c491-4f1f-af3a-0d41f4fe1a3a",
   "metadata": {},
   "outputs": [],
   "source": [
    "my_list = list(range(20))"
   ]
  },
  {
   "cell_type": "code",
   "execution_count": 5,
   "id": "528047d3-c567-493c-b145-82ba641e463a",
   "metadata": {},
   "outputs": [
    {
     "data": {
      "text/plain": [
       "[0, 1, 2, 3, 4, 5, 6, 7, 8, 9, 10, 11, 12, 13, 14, 15, 16, 17, 18, 19]"
      ]
     },
     "execution_count": 5,
     "metadata": {},
     "output_type": "execute_result"
    }
   ],
   "source": [
    "my_list"
   ]
  },
  {
   "cell_type": "code",
   "execution_count": 22,
   "id": "d380a566-c2ef-48b1-8017-751b082458f3",
   "metadata": {},
   "outputs": [
    {
     "data": {
      "text/plain": [
       "[19, 17, 15, 13]"
      ]
     },
     "execution_count": 22,
     "metadata": {},
     "output_type": "execute_result"
    }
   ],
   "source": [
    "my_list[20:11:-2]"
   ]
  }
 ],
 "metadata": {
  "kernelspec": {
   "display_name": "Python 3 (ipykernel)",
   "language": "python",
   "name": "python3"
  },
  "language_info": {
   "codemirror_mode": {
    "name": "ipython",
    "version": 3
   },
   "file_extension": ".py",
   "mimetype": "text/x-python",
   "name": "python",
   "nbconvert_exporter": "python",
   "pygments_lexer": "ipython3",
   "version": "3.12.7"
  }
 },
 "nbformat": 4,
 "nbformat_minor": 5
}
