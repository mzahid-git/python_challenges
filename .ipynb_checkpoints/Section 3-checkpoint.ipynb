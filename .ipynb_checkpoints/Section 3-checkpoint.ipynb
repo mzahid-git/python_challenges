{
 "cells": [
  {
   "cell_type": "code",
   "execution_count": 1,
   "metadata": {},
   "outputs": [],
   "source": [
    "#Data \n",
    "revenue = [14574.49, 7606.46, 8611.41, 9175.41, 8058.65, 8105.44, 11496.28, 9766.09, 10305.32, 14379.96, 10713.97, 15433.50]\n",
    "expenses = [12051.82, 5695.07, 12319.20, 12089.72, 8658.57, 840.20, 3285.73, 5821.12, 6976.93, 16618.61, 10054.37, 3803.96]"
   ]
  },
  {
   "cell_type": "code",
   "execution_count": 3,
   "metadata": {},
   "outputs": [
    {
     "name": "stdout",
     "output_type": "stream",
     "text": [
      "12\n",
      "12\n"
     ]
    }
   ],
   "source": [
    "print(len(revenue))\n",
    "print(len(expenses))"
   ]
  },
  {
   "cell_type": "code",
   "execution_count": 7,
   "metadata": {},
   "outputs": [
    {
     "data": {
      "text/plain": [
       "2522.67"
      ]
     },
     "execution_count": 7,
     "metadata": {},
     "output_type": "execute_result"
    }
   ],
   "source": [
    "profit = [revenue[0]-expenses[0],...]"
   ]
  },
  {
   "cell_type": "code",
   "execution_count": 56,
   "metadata": {},
   "outputs": [
    {
     "name": "stdout",
     "output_type": "stream",
     "text": [
      "Profit Each Month:  [2522.67, 1911.39, -3707.79, -2914.31, -599.92, 7265.24, 8210.55, 3944.97, 3328.39, -2238.65, 659.6, 11629.54] \n",
      "\n",
      "Profit Each Month (in Units of $K):  [3, 2, -4, -3, -1, 7, 8, 4, 3, -2, 1, 12] \n",
      "\n",
      "Profit After Tax:  [1765.87, 1337.97, -3707.79, -2914.31, -599.92, 5085.67, 5747.39, 2761.48, 2329.87, -2238.65, 461.72, 8140.68] \n",
      "\n",
      "Profit After Tax (in Units of $K):  [2, 1, -4, -3, -1, 5, 6, 3, 2, -2, 0, 8] \n",
      "\n",
      "Profit Margin:  [12, 18, -43, -32, -7, 63, 50, 28, 23, -16, 4, 53] \n",
      " \n",
      "\n",
      "Mean Year:  1514.165 \n",
      "\n",
      "Is Good Month:  [True, False, False, False, False, True, True, True, True, False, False, True] \n",
      "\n",
      "Is Bad Month:  [False, True, True, True, True, False, False, False, False, True, True, False] \n",
      "\n",
      "Best Month:  [8140.68] \n",
      "\n",
      "Worst Month:  [-3707.79]\n"
     ]
    }
   ],
   "source": [
    "profit = []\n",
    "profit_1000 = []\n",
    "profit_after_tax = []\n",
    "profit_after_tax_1000 = []\n",
    "profit_margin = []\n",
    "good_month = []\n",
    "bad_month = []\n",
    "\n",
    "for i in range(len(revenue)):\n",
    "    profit.append(round((revenue[i]-expenses[i]),2))\n",
    "    profit_1000.append(round(profit[i]/1000))\n",
    "    if profit[i] > 0:\n",
    "        profit_after_tax.append(round(profit[i] - (profit[i] * 0.3),2))\n",
    "    else:\n",
    "        profit_after_tax.append(round(profit[i],2))\n",
    "\n",
    "    profit_after_tax_1000.append(round(profit_after_tax[i]/1000))\n",
    "    \n",
    "    profit_margin.append(round(profit_after_tax[i]/revenue[i]*100))\n",
    "    \n",
    "mean_year = sum(profit_after_tax)/len(profit_after_tax)\n",
    "\n",
    "for i in range(len(revenue)):\n",
    "    if mean_year > profit_after_tax[i]:\n",
    "        good_month.append(False)\n",
    "        bad_month.append(True)\n",
    "    else:\n",
    "        good_month.append(True)\n",
    "        bad_month.append(False)\n",
    "\n",
    "print(\"Profit Each Month: \", profit,\"\\n\")\n",
    "print(\"Profit Each Month (in Units of $K): \", profit_1000,\"\\n\")\n",
    "print(\"Profit After Tax: \",profit_after_tax,\"\\n\")\n",
    "print(\"Profit After Tax (in Units of $K): \",profit_after_tax_1000,\"\\n\")\n",
    "print(\"Profit Margin: \",profit_margin,\"\\n\",\"\\n\")\n",
    "print(\"Mean Year: \",mean_year,\"\\n\")\n",
    "print(\"Is Good Month: \",good_month,\"\\n\")\n",
    "print(\"Is Bad Month: \",bad_month,\"\\n\")\n",
    "print(\"Best Month: \",[max(profit_after_tax)],\"\\n\")\n",
    "print(\"Worst Month: \",[min(profit_after_tax)])"
   ]
  },
  {
   "cell_type": "code",
   "execution_count": null,
   "metadata": {},
   "outputs": [],
   "source": []
  }
 ],
 "metadata": {
  "kernelspec": {
   "display_name": "Python 3 (ipykernel)",
   "language": "python",
   "name": "python3"
  },
  "language_info": {
   "codemirror_mode": {
    "name": "ipython",
    "version": 3
   },
   "file_extension": ".py",
   "mimetype": "text/x-python",
   "name": "python",
   "nbconvert_exporter": "python",
   "pygments_lexer": "ipython3",
   "version": "3.12.7"
  }
 },
 "nbformat": 4,
 "nbformat_minor": 4
}
